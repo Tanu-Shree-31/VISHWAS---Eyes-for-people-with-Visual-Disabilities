{
 "cells": [
  {
   "cell_type": "code",
   "execution_count": null,
   "metadata": {},
   "outputs": [],
   "source": [
    "from tensorflow.keras.applications.vgg19 import VGG19,preprocess_input,decode_predictions"
   ]
  },
  {
   "cell_type": "code",
   "execution_count": null,
   "metadata": {},
   "outputs": [],
   "source": [
    "import pytesseract\n",
    "import cv2\n",
    "import matplotlib.pyplot as plt\n",
    "import pyttsx3\n",
    "import os\n",
    "pytesseract.pytesseract.tesseract_cmd = r'C:/Program Files/Tesseract-OCR/tesseract.exe'"
   ]
  },
  {
   "cell_type": "code",
   "execution_count": null,
   "metadata": {},
   "outputs": [],
   "source": [
    "from tensorflow.keras.preprocessing.image import load_img, img_to_array"
   ]
  },
  {
   "cell_type": "code",
   "execution_count": null,
   "metadata": {},
   "outputs": [],
   "source": [
    "model = VGG19()"
   ]
  },
  {
   "cell_type": "code",
   "execution_count": null,
   "metadata": {},
   "outputs": [],
   "source": [
    "model.summary()"
   ]
  },
  {
   "cell_type": "code",
   "execution_count": null,
   "metadata": {
    "scrolled": false
   },
   "outputs": [],
   "source": [
    "import cv2\n",
    "vidcap = cv2.VideoCapture(0)\n",
    "success,image = vidcap.read()\n",
    "count = 2\n",
    "while (success):\n",
    "    cv2.waitKey(1000)\n",
    "    cv2.imwrite(\"frame%d.jpg\" % count, image)     # save frame as JPEG file      \n",
    "    #cv2.imwrite(\"frame1.jpg\", image)     # save frame as JPEG file      \n",
    "    print('Read a new frame: ', success)\n",
    "    cv2.imshow('frame',image)\n",
    "    #gray = cv2.cvtColor(image, cv2.COLOR_BGR2GRAY)\n",
    "    img = cv2.imread(\"frame%d.jpg\" % count)\n",
    "#    img2char = pytesseract.image_to_string(img)\n",
    "    full_path = \"frame%d.jpg\" % count\n",
    "    image1 = load_img(full_path, target_size = (244,244))\n",
    "    image1 = img_to_array(image1)\n",
    "    image1 = image1.reshape(1,image1.shape[0],image1.shape[1],image1.shape[2])\n",
    "    image1 = preprocess_input(image1)\n",
    "    y_pred = model.predict(image1)\n",
    "    label = decode_predictions(y_pred, top = 20)\n",
    "    for i in range(len(label[0])):\n",
    "        if '_' in label[0][0:10][i][1]:\n",
    "            x = label[0][0:10][i][1].replace('_','')\n",
    "            print(x)\n",
    "            text = pyttsx3.init()\n",
    "            text.say(x)\n",
    "            text.runAndWait()\n",
    "        else:\n",
    "            text = pyttsx3.init()\n",
    "            text.say(label[0][0:10][i][1])\n",
    "            print(label[0][0:10][i][1])\n",
    "            text.runAndWait()\n",
    "    os.remove(\"frame%d.jpg\" % count)\n",
    "    count += 1\n",
    "    success,image = vidcap.read()\n",
    "    if cv2.waitKey(0) & 0xFF == ord('q'):\n",
    "        print('stopped')\n",
    "#         cv2.imwrite(\"frame%d.jpg\" % count, image)\n",
    "        break\n",
    "    if count == 10:\n",
    "        break\n",
    "vidcap.release()\n",
    "cv2.destroyAllWindows()"
   ]
  },
  {
   "cell_type": "code",
   "execution_count": null,
   "metadata": {},
   "outputs": [],
   "source": []
  },
  {
   "cell_type": "code",
   "execution_count": null,
   "metadata": {},
   "outputs": [],
   "source": []
  },
  {
   "cell_type": "code",
   "execution_count": null,
   "metadata": {},
   "outputs": [],
   "source": []
  }
 ],
 "metadata": {
  "kernelspec": {
   "display_name": "Python 3",
   "language": "python",
   "name": "python3"
  },
  "language_info": {
   "codemirror_mode": {
    "name": "ipython",
    "version": 3
   },
   "file_extension": ".py",
   "mimetype": "text/x-python",
   "name": "python",
   "nbconvert_exporter": "python",
   "pygments_lexer": "ipython3",
   "version": "3.7.4"
  }
 },
 "nbformat": 4,
 "nbformat_minor": 2
}
